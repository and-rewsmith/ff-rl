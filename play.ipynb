{
 "cells": [
  {
   "cell_type": "code",
   "execution_count": null,
   "metadata": {},
   "outputs": [],
   "source": [
    "import torch\n",
    "import torch.nn as nn\n",
    "import matplotlib.pyplot as plt\n",
    "import seaborn as sns\n",
    "import numpy as np\n",
    "\n",
    "# Define input and output dimensions\n",
    "in_features = 64\n",
    "out_features = 32\n",
    "\n",
    "# Create a linear layer\n",
    "linear = nn.Linear(in_features, out_features)\n",
    "\n",
    "# Get the current weights\n",
    "weights = linear.weight.data\n",
    "\n",
    "# Create a mask for sparse initialization (90% sparsity)\n",
    "mask = torch.rand_like(weights) > 0.9  # Keep only 10% of the weights\n",
    "sparse_weights = weights * mask\n",
    "\n",
    "# Update the weights\n",
    "linear.weight.data = sparse_weights\n",
    "\n",
    "# Convert weights to numpy for visualization\n",
    "weight_matrix = sparse_weights.numpy()\n",
    "\n",
    "# Create a figure with a larger size\n",
    "plt.figure(figsize=(10, 6))\n",
    "\n",
    "# Create heatmap\n",
    "sns.heatmap(weight_matrix, \n",
    "            cmap='RdBu_r',  # Red-Blue diverging colormap\n",
    "            center=0,       # Center the colormap at 0\n",
    "            cbar_kws={'label': 'Weight Value'},\n",
    "            xticklabels=10, # Show every 10th tick\n",
    "            yticklabels=10)\n",
    "\n",
    "plt.title('Sparse Weight Matrix (90% Sparsity)')\n",
    "plt.xlabel('Input Features')\n",
    "plt.ylabel('Output Features')\n",
    "\n",
    "plt.show()\n",
    "\n",
    "# Print sparsity statistics\n",
    "total_weights = weights.numel()\n",
    "zero_weights = torch.sum(sparse_weights == 0).item()\n",
    "sparsity_percentage = (zero_weights / total_weights) * 100\n",
    "\n",
    "print(f\"Total weights: {total_weights}\")\n",
    "print(f\"Zero weights: {zero_weights}\")\n",
    "print(f\"Sparsity percentage: {sparsity_percentage:.2f}%\")"
   ]
  }
 ],
 "metadata": {
  "kernelspec": {
   "display_name": "env",
   "language": "python",
   "name": "python3"
  },
  "language_info": {
   "name": "python",
   "version": "3.11.10"
  }
 },
 "nbformat": 4,
 "nbformat_minor": 2
}
